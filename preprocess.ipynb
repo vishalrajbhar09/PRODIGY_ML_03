{
 "cells": [
  {
   "cell_type": "code",
   "execution_count": 3,
   "id": "e7b58add",
   "metadata": {},
   "outputs": [],
   "source": [
    "import os\n",
    "import cv2\n",
    "import numpy as np\n",
    "\n",
    "def preprocess_images_from_folder(folder_path, target_size=(224, 224), method='bicubic', output_folder=\"preprocessed_images_test\"):\n",
    "    \"\"\"\n",
    "    Preprocesses all images in a folder and saves the preprocessed images to a new folder.\n",
    "\n",
    "    Args:\n",
    "        folder_path: Path to the folder containing the images.\n",
    "        target_size: Tuple (width, height) specifying the target size.\n",
    "        method: Resizing interpolation method ('nearest', 'bilinear', 'bicubic', 'lanczos').\n",
    "        output_folder: The folder to save the preprocessed images to.\n",
    "\n",
    "    Returns:  None.  Saves the preprocessed images to the specified output folder.\n",
    "    \"\"\"\n",
    "    os.makedirs(output_folder, exist_ok=True) # Create output folder if it doesn't exist\n",
    "\n",
    "\n",
    "    for filename in os.listdir(folder_path):\n",
    "        if filename.endswith(('.jpg', '.jpeg', '.png', '.bmp')): # Check for image file extensions\n",
    "            image_path = os.path.join(folder_path, filename)\n",
    "            preprocessed_image = preprocess_image(image_path, target_size, method)\n",
    "            if preprocessed_image is not None:\n",
    "                output_path = os.path.join(output_folder, filename)\n",
    "                cv2.imwrite(output_path, cv2.cvtColor(preprocessed_image, cv2.COLOR_RGB2BGR)) #Save in BGR format\n",
    "\n",
    "\n",
    "def preprocess_image(image_path, target_size=(224, 224), method='bicubic'):\n",
    "    # (This function remains the same as in the previous response)\n",
    "    try:\n",
    "        img = cv2.imread(image_path)\n",
    "        if img is None:\n",
    "            return None\n",
    "        img = cv2.cvtColor(img, cv2.COLOR_BGR2RGB)  #Convert from BGR (OpenCV default) to RGB\n",
    "        interpolation = {\n",
    "            'nearest': cv2.INTER_NEAREST,\n",
    "            'bilinear': cv2.INTER_LINEAR,\n",
    "            'bicubic': cv2.INTER_CUBIC,\n",
    "            'lanczos': cv2.INTER_LANCZOS4\n",
    "        }[method]\n",
    "        resized_img = cv2.resize(img, target_size, interpolation=interpolation)\n",
    "        return resized_img\n",
    "    except Exception as e:\n",
    "        print(f\"Error processing image: {e}\")\n",
    "        return None\n",
    "\n",
    "\n",
    "\n",
    "# Example usage:\n",
    "folder_path = \"./test (1)/test\"  # Replace with the actual path to your image folder\n",
    "preprocess_images_from_folder(folder_path)"
   ]
  }
 ],
 "metadata": {
  "kernelspec": {
   "display_name": "Python 3 (ipykernel)",
   "language": "python",
   "name": "python3"
  },
  "language_info": {
   "codemirror_mode": {
    "name": "ipython",
    "version": 3
   },
   "file_extension": ".py",
   "mimetype": "text/x-python",
   "name": "python",
   "nbconvert_exporter": "python",
   "pygments_lexer": "ipython3",
   "version": "3.11.5"
  }
 },
 "nbformat": 4,
 "nbformat_minor": 5
}
