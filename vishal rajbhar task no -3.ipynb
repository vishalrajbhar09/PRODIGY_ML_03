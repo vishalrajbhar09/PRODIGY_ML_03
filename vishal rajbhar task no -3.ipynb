{
 "cells": [
  {
   "cell_type": "markdown",
   "id": "ba1ac0ab",
   "metadata": {},
   "source": [
    "##  Task-03\n",
    "##   Implement a support vector machine (SVM) to classify images of cats and dogs from the Kaggle dataset.\n",
    "\n"
   ]
  },
  {
   "cell_type": "code",
   "execution_count": 1,
   "id": "d470b9ec",
   "metadata": {},
   "outputs": [],
   "source": [
    "import os\n",
    "import pandas as pd\n",
    "from PIL import Image\n",
    "import numpy as np\n",
    "\n",
    "def prepare_image_dataframe(folder_path):\n",
    "    \"\"\"\n",
    "    Prepares a Pandas DataFrame from images in a folder.\n",
    "\n",
    "    Args:\n",
    "        folder_path: Path to the folder containing images.\n",
    "\n",
    "    Returns:\n",
    "        A Pandas DataFrame with columns 'image', 'label', and 'filepath'. \n",
    "        Returns None if the folder is empty or doesn't exist.\n",
    "    \"\"\"\n",
    "\n",
    "    if not os.path.exists(folder_path):\n",
    "        print(f\"Error: Folder '{folder_path}' not found.\")\n",
    "        return None\n",
    "\n",
    "    image_files = [f for f in os.listdir(folder_path) if os.path.isfile(os.path.join(folder_path, f))]\n",
    "    if not image_files:\n",
    "        print(f\"Error: Folder '{folder_path}' is empty.\")\n",
    "        return None\n",
    "\n",
    "\n",
    "    data = []\n",
    "    for filename in image_files:\n",
    "        try:\n",
    "            filepath = os.path.join(folder_path, filename)\n",
    "            label = filename.lower().split('.')[0] #Assumes label is before the first underscore.  Adjust if needed.\n",
    "            \n",
    "            if label not in ['cat', 'dog']: #add more labels if needed\n",
    "                print(f\"Warning: Skipping file '{filename}' due to unknown label.\")\n",
    "                continue\n",
    "\n",
    "            img = Image.open(filepath)\n",
    "            img_array = np.array(img) #convert to numpy array\n",
    "            data.append({'image': img_array, 'label': label, 'filepath': filepath})\n",
    "\n",
    "        except (IOError, OSError) as e:\n",
    "            print(f\"Error processing file '{filename}': {e}\")\n",
    "            continue  # Skip files that cause errors\n",
    "\n",
    "    if not data:\n",
    "        print(f\"Error: No valid images found in '{folder_path}'.\")\n",
    "        return None\n",
    "\n",
    "\n",
    "    df = pd.DataFrame(data)\n",
    "    return df\n",
    "\n",
    "\n",
    "# Example usage:\n",
    "folder_path = \"./train_data\"  # Replace with your folder path\n",
    "df_train = prepare_image_dataframe(folder_path)"
   ]
  },
  {
   "cell_type": "code",
   "execution_count": 2,
   "id": "3dd37d77",
   "metadata": {},
   "outputs": [],
   "source": [
    "import os\n",
    "import pandas as pd\n",
    "from PIL import Image\n",
    "import numpy as np\n",
    "\n",
    "def prepare_test_image_dataframe(folder_path):\n",
    "    \"\"\"\n",
    "    Prepares a Pandas DataFrame from test images (no labels) in a folder.\n",
    "\n",
    "    Args:\n",
    "        folder_path: Path to the folder containing test images.\n",
    "\n",
    "    Returns:\n",
    "        A Pandas DataFrame with columns 'image' and 'filepath'.\n",
    "        Returns None if the folder is empty or doesn't exist.\n",
    "    \"\"\"\n",
    "\n",
    "    if not os.path.exists(folder_path):\n",
    "        print(f\"Error: Folder '{folder_path}' not found.\")\n",
    "        return None\n",
    "\n",
    "    image_files = [f for f in os.listdir(folder_path) if os.path.isfile(os.path.join(folder_path, f))]\n",
    "    if not image_files:\n",
    "        print(f\"Error: Folder '{folder_path}' is empty.\")\n",
    "        return None\n",
    "\n",
    "    data = []\n",
    "    for filename in image_files:\n",
    "        try:\n",
    "            filepath = os.path.join(folder_path, filename)\n",
    "            img = Image.open(filepath)\n",
    "            img_array = np.array(img)\n",
    "            data.append({'image': img_array, 'filepath': filepath})\n",
    "\n",
    "        except (IOError, OSError) as e:\n",
    "            print(f\"Error processing file '{filename}': {e}\")\n",
    "            continue\n",
    "\n",
    "    if not data:\n",
    "        print(f\"Error: No valid images found in '{folder_path}'.\")\n",
    "        return None\n",
    "\n",
    "    df = pd.DataFrame(data)\n",
    "    return df\n",
    "\n",
    "# Example usage:\n",
    "test_folder_path = \"./test_data\"  # Replace with your test folder path\n",
    "test_df = prepare_test_image_dataframe(test_folder_path)"
   ]
  },
  {
   "cell_type": "code",
   "execution_count": 3,
   "id": "cf54ccb8",
   "metadata": {},
   "outputs": [
    {
     "data": {
      "text/html": [
       "<div>\n",
       "<style scoped>\n",
       "    .dataframe tbody tr th:only-of-type {\n",
       "        vertical-align: middle;\n",
       "    }\n",
       "\n",
       "    .dataframe tbody tr th {\n",
       "        vertical-align: top;\n",
       "    }\n",
       "\n",
       "    .dataframe thead th {\n",
       "        text-align: right;\n",
       "    }\n",
       "</style>\n",
       "<table border=\"1\" class=\"dataframe\">\n",
       "  <thead>\n",
       "    <tr style=\"text-align: right;\">\n",
       "      <th></th>\n",
       "      <th>image</th>\n",
       "      <th>filepath</th>\n",
       "    </tr>\n",
       "  </thead>\n",
       "  <tbody>\n",
       "    <tr>\n",
       "      <th>0</th>\n",
       "      <td>[[[38, 67, 101], [36, 65, 99], [39, 65, 102], ...</td>\n",
       "      <td>./test_data\\1.jpg</td>\n",
       "    </tr>\n",
       "    <tr>\n",
       "      <th>1</th>\n",
       "      <td>[[[10, 10, 0], [9, 11, 0], [9, 10, 4], [9, 9, ...</td>\n",
       "      <td>./test_data\\10.jpg</td>\n",
       "    </tr>\n",
       "    <tr>\n",
       "      <th>2</th>\n",
       "      <td>[[[4, 4, 4], [3, 3, 3], [2, 2, 2], [3, 3, 3], ...</td>\n",
       "      <td>./test_data\\100.jpg</td>\n",
       "    </tr>\n",
       "    <tr>\n",
       "      <th>3</th>\n",
       "      <td>[[[221, 222, 216], [221, 222, 216], [222, 223,...</td>\n",
       "      <td>./test_data\\11.jpg</td>\n",
       "    </tr>\n",
       "    <tr>\n",
       "      <th>4</th>\n",
       "      <td>[[[141, 127, 114], [176, 162, 149], [163, 149,...</td>\n",
       "      <td>./test_data\\12.jpg</td>\n",
       "    </tr>\n",
       "  </tbody>\n",
       "</table>\n",
       "</div>"
      ],
      "text/plain": [
       "                                               image             filepath\n",
       "0  [[[38, 67, 101], [36, 65, 99], [39, 65, 102], ...    ./test_data\\1.jpg\n",
       "1  [[[10, 10, 0], [9, 11, 0], [9, 10, 4], [9, 9, ...   ./test_data\\10.jpg\n",
       "2  [[[4, 4, 4], [3, 3, 3], [2, 2, 2], [3, 3, 3], ...  ./test_data\\100.jpg\n",
       "3  [[[221, 222, 216], [221, 222, 216], [222, 223,...   ./test_data\\11.jpg\n",
       "4  [[[141, 127, 114], [176, 162, 149], [163, 149,...   ./test_data\\12.jpg"
      ]
     },
     "execution_count": 3,
     "metadata": {},
     "output_type": "execute_result"
    }
   ],
   "source": [
    "test_df.head()"
   ]
  },
  {
   "cell_type": "code",
   "execution_count": 4,
   "id": "c6eb5cdf",
   "metadata": {},
   "outputs": [
    {
     "data": {
      "text/html": [
       "<div>\n",
       "<style scoped>\n",
       "    .dataframe tbody tr th:only-of-type {\n",
       "        vertical-align: middle;\n",
       "    }\n",
       "\n",
       "    .dataframe tbody tr th {\n",
       "        vertical-align: top;\n",
       "    }\n",
       "\n",
       "    .dataframe thead th {\n",
       "        text-align: right;\n",
       "    }\n",
       "</style>\n",
       "<table border=\"1\" class=\"dataframe\">\n",
       "  <thead>\n",
       "    <tr style=\"text-align: right;\">\n",
       "      <th></th>\n",
       "      <th>image</th>\n",
       "      <th>label</th>\n",
       "      <th>filepath</th>\n",
       "    </tr>\n",
       "  </thead>\n",
       "  <tbody>\n",
       "    <tr>\n",
       "      <th>0</th>\n",
       "      <td>[[[202, 164, 89], [205, 167, 92], [208, 170, 9...</td>\n",
       "      <td>cat</td>\n",
       "      <td>./train_data\\cat.0.jpg</td>\n",
       "    </tr>\n",
       "    <tr>\n",
       "      <th>1</th>\n",
       "      <td>[[[39, 44, 38], [40, 45, 41], [41, 45, 44], [4...</td>\n",
       "      <td>cat</td>\n",
       "      <td>./train_data\\cat.1.jpg</td>\n",
       "    </tr>\n",
       "    <tr>\n",
       "      <th>2</th>\n",
       "      <td>[[[25, 32, 40], [16, 23, 33], [7, 11, 22], [11...</td>\n",
       "      <td>cat</td>\n",
       "      <td>./train_data\\cat.10.jpg</td>\n",
       "    </tr>\n",
       "    <tr>\n",
       "      <th>3</th>\n",
       "      <td>[[[223, 224, 219], [223, 224, 219], [223, 224,...</td>\n",
       "      <td>cat</td>\n",
       "      <td>./train_data\\cat.100.jpg</td>\n",
       "    </tr>\n",
       "    <tr>\n",
       "      <th>4</th>\n",
       "      <td>[[[71, 253, 254], [72, 254, 255], [72, 254, 25...</td>\n",
       "      <td>cat</td>\n",
       "      <td>./train_data\\cat.101.jpg</td>\n",
       "    </tr>\n",
       "  </tbody>\n",
       "</table>\n",
       "</div>"
      ],
      "text/plain": [
       "                                               image label  \\\n",
       "0  [[[202, 164, 89], [205, 167, 92], [208, 170, 9...   cat   \n",
       "1  [[[39, 44, 38], [40, 45, 41], [41, 45, 44], [4...   cat   \n",
       "2  [[[25, 32, 40], [16, 23, 33], [7, 11, 22], [11...   cat   \n",
       "3  [[[223, 224, 219], [223, 224, 219], [223, 224,...   cat   \n",
       "4  [[[71, 253, 254], [72, 254, 255], [72, 254, 25...   cat   \n",
       "\n",
       "                   filepath  \n",
       "0    ./train_data\\cat.0.jpg  \n",
       "1    ./train_data\\cat.1.jpg  \n",
       "2   ./train_data\\cat.10.jpg  \n",
       "3  ./train_data\\cat.100.jpg  \n",
       "4  ./train_data\\cat.101.jpg  "
      ]
     },
     "execution_count": 4,
     "metadata": {},
     "output_type": "execute_result"
    }
   ],
   "source": [
    "df_train.head()"
   ]
  },
  {
   "cell_type": "code",
   "execution_count": 5,
   "id": "7c852a20",
   "metadata": {},
   "outputs": [
    {
     "data": {
      "text/plain": [
       "label\n",
       "cat    251\n",
       "dog    251\n",
       "Name: count, dtype: int64"
      ]
     },
     "execution_count": 5,
     "metadata": {},
     "output_type": "execute_result"
    }
   ],
   "source": [
    "df_train['label'].value_counts()"
   ]
  },
  {
   "cell_type": "code",
   "execution_count": 6,
   "id": "4eedb53e",
   "metadata": {},
   "outputs": [],
   "source": [
    "df_train['label'] = np.where(df_train['label'] == 'cat', 1, 0)"
   ]
  },
  {
   "cell_type": "code",
   "execution_count": 7,
   "id": "0a97d280",
   "metadata": {},
   "outputs": [
    {
     "data": {
      "text/html": [
       "<div>\n",
       "<style scoped>\n",
       "    .dataframe tbody tr th:only-of-type {\n",
       "        vertical-align: middle;\n",
       "    }\n",
       "\n",
       "    .dataframe tbody tr th {\n",
       "        vertical-align: top;\n",
       "    }\n",
       "\n",
       "    .dataframe thead th {\n",
       "        text-align: right;\n",
       "    }\n",
       "</style>\n",
       "<table border=\"1\" class=\"dataframe\">\n",
       "  <thead>\n",
       "    <tr style=\"text-align: right;\">\n",
       "      <th></th>\n",
       "      <th>image</th>\n",
       "      <th>label</th>\n",
       "      <th>filepath</th>\n",
       "    </tr>\n",
       "  </thead>\n",
       "  <tbody>\n",
       "    <tr>\n",
       "      <th>0</th>\n",
       "      <td>[[[202, 164, 89], [205, 167, 92], [208, 170, 9...</td>\n",
       "      <td>1</td>\n",
       "      <td>./train_data\\cat.0.jpg</td>\n",
       "    </tr>\n",
       "    <tr>\n",
       "      <th>1</th>\n",
       "      <td>[[[39, 44, 38], [40, 45, 41], [41, 45, 44], [4...</td>\n",
       "      <td>1</td>\n",
       "      <td>./train_data\\cat.1.jpg</td>\n",
       "    </tr>\n",
       "    <tr>\n",
       "      <th>2</th>\n",
       "      <td>[[[25, 32, 40], [16, 23, 33], [7, 11, 22], [11...</td>\n",
       "      <td>1</td>\n",
       "      <td>./train_data\\cat.10.jpg</td>\n",
       "    </tr>\n",
       "    <tr>\n",
       "      <th>3</th>\n",
       "      <td>[[[223, 224, 219], [223, 224, 219], [223, 224,...</td>\n",
       "      <td>1</td>\n",
       "      <td>./train_data\\cat.100.jpg</td>\n",
       "    </tr>\n",
       "    <tr>\n",
       "      <th>4</th>\n",
       "      <td>[[[71, 253, 254], [72, 254, 255], [72, 254, 25...</td>\n",
       "      <td>1</td>\n",
       "      <td>./train_data\\cat.101.jpg</td>\n",
       "    </tr>\n",
       "  </tbody>\n",
       "</table>\n",
       "</div>"
      ],
      "text/plain": [
       "                                               image  label  \\\n",
       "0  [[[202, 164, 89], [205, 167, 92], [208, 170, 9...      1   \n",
       "1  [[[39, 44, 38], [40, 45, 41], [41, 45, 44], [4...      1   \n",
       "2  [[[25, 32, 40], [16, 23, 33], [7, 11, 22], [11...      1   \n",
       "3  [[[223, 224, 219], [223, 224, 219], [223, 224,...      1   \n",
       "4  [[[71, 253, 254], [72, 254, 255], [72, 254, 25...      1   \n",
       "\n",
       "                   filepath  \n",
       "0    ./train_data\\cat.0.jpg  \n",
       "1    ./train_data\\cat.1.jpg  \n",
       "2   ./train_data\\cat.10.jpg  \n",
       "3  ./train_data\\cat.100.jpg  \n",
       "4  ./train_data\\cat.101.jpg  "
      ]
     },
     "execution_count": 7,
     "metadata": {},
     "output_type": "execute_result"
    }
   ],
   "source": [
    "df_train.head()"
   ]
  },
  {
   "cell_type": "code",
   "execution_count": 8,
   "id": "53ccb05f",
   "metadata": {},
   "outputs": [],
   "source": [
    "from sklearn import svm\n",
    "\n",
    "clf = svm.SVC()"
   ]
  },
  {
   "cell_type": "code",
   "execution_count": 9,
   "id": "47320a10",
   "metadata": {},
   "outputs": [],
   "source": [
    "x_train = np.array([img.flatten() for img in df_train['image']])\n",
    "y_train = df_train[\"label\"]"
   ]
  },
  {
   "cell_type": "code",
   "execution_count": 10,
   "id": "1ac85b60",
   "metadata": {},
   "outputs": [
    {
     "data": {
      "text/html": [
       "<style>#sk-container-id-1 {color: black;}#sk-container-id-1 pre{padding: 0;}#sk-container-id-1 div.sk-toggleable {background-color: white;}#sk-container-id-1 label.sk-toggleable__label {cursor: pointer;display: block;width: 100%;margin-bottom: 0;padding: 0.3em;box-sizing: border-box;text-align: center;}#sk-container-id-1 label.sk-toggleable__label-arrow:before {content: \"▸\";float: left;margin-right: 0.25em;color: #696969;}#sk-container-id-1 label.sk-toggleable__label-arrow:hover:before {color: black;}#sk-container-id-1 div.sk-estimator:hover label.sk-toggleable__label-arrow:before {color: black;}#sk-container-id-1 div.sk-toggleable__content {max-height: 0;max-width: 0;overflow: hidden;text-align: left;background-color: #f0f8ff;}#sk-container-id-1 div.sk-toggleable__content pre {margin: 0.2em;color: black;border-radius: 0.25em;background-color: #f0f8ff;}#sk-container-id-1 input.sk-toggleable__control:checked~div.sk-toggleable__content {max-height: 200px;max-width: 100%;overflow: auto;}#sk-container-id-1 input.sk-toggleable__control:checked~label.sk-toggleable__label-arrow:before {content: \"▾\";}#sk-container-id-1 div.sk-estimator input.sk-toggleable__control:checked~label.sk-toggleable__label {background-color: #d4ebff;}#sk-container-id-1 div.sk-label input.sk-toggleable__control:checked~label.sk-toggleable__label {background-color: #d4ebff;}#sk-container-id-1 input.sk-hidden--visually {border: 0;clip: rect(1px 1px 1px 1px);clip: rect(1px, 1px, 1px, 1px);height: 1px;margin: -1px;overflow: hidden;padding: 0;position: absolute;width: 1px;}#sk-container-id-1 div.sk-estimator {font-family: monospace;background-color: #f0f8ff;border: 1px dotted black;border-radius: 0.25em;box-sizing: border-box;margin-bottom: 0.5em;}#sk-container-id-1 div.sk-estimator:hover {background-color: #d4ebff;}#sk-container-id-1 div.sk-parallel-item::after {content: \"\";width: 100%;border-bottom: 1px solid gray;flex-grow: 1;}#sk-container-id-1 div.sk-label:hover label.sk-toggleable__label {background-color: #d4ebff;}#sk-container-id-1 div.sk-serial::before {content: \"\";position: absolute;border-left: 1px solid gray;box-sizing: border-box;top: 0;bottom: 0;left: 50%;z-index: 0;}#sk-container-id-1 div.sk-serial {display: flex;flex-direction: column;align-items: center;background-color: white;padding-right: 0.2em;padding-left: 0.2em;position: relative;}#sk-container-id-1 div.sk-item {position: relative;z-index: 1;}#sk-container-id-1 div.sk-parallel {display: flex;align-items: stretch;justify-content: center;background-color: white;position: relative;}#sk-container-id-1 div.sk-item::before, #sk-container-id-1 div.sk-parallel-item::before {content: \"\";position: absolute;border-left: 1px solid gray;box-sizing: border-box;top: 0;bottom: 0;left: 50%;z-index: -1;}#sk-container-id-1 div.sk-parallel-item {display: flex;flex-direction: column;z-index: 1;position: relative;background-color: white;}#sk-container-id-1 div.sk-parallel-item:first-child::after {align-self: flex-end;width: 50%;}#sk-container-id-1 div.sk-parallel-item:last-child::after {align-self: flex-start;width: 50%;}#sk-container-id-1 div.sk-parallel-item:only-child::after {width: 0;}#sk-container-id-1 div.sk-dashed-wrapped {border: 1px dashed gray;margin: 0 0.4em 0.5em 0.4em;box-sizing: border-box;padding-bottom: 0.4em;background-color: white;}#sk-container-id-1 div.sk-label label {font-family: monospace;font-weight: bold;display: inline-block;line-height: 1.2em;}#sk-container-id-1 div.sk-label-container {text-align: center;}#sk-container-id-1 div.sk-container {/* jupyter's `normalize.less` sets `[hidden] { display: none; }` but bootstrap.min.css set `[hidden] { display: none !important; }` so we also need the `!important` here to be able to override the default hidden behavior on the sphinx rendered scikit-learn.org. See: https://github.com/scikit-learn/scikit-learn/issues/21755 */display: inline-block !important;position: relative;}#sk-container-id-1 div.sk-text-repr-fallback {display: none;}</style><div id=\"sk-container-id-1\" class=\"sk-top-container\"><div class=\"sk-text-repr-fallback\"><pre>SVC()</pre><b>In a Jupyter environment, please rerun this cell to show the HTML representation or trust the notebook. <br />On GitHub, the HTML representation is unable to render, please try loading this page with nbviewer.org.</b></div><div class=\"sk-container\" hidden><div class=\"sk-item\"><div class=\"sk-estimator sk-toggleable\"><input class=\"sk-toggleable__control sk-hidden--visually\" id=\"sk-estimator-id-1\" type=\"checkbox\" checked><label for=\"sk-estimator-id-1\" class=\"sk-toggleable__label sk-toggleable__label-arrow\">SVC</label><div class=\"sk-toggleable__content\"><pre>SVC()</pre></div></div></div></div></div>"
      ],
      "text/plain": [
       "SVC()"
      ]
     },
     "execution_count": 10,
     "metadata": {},
     "output_type": "execute_result"
    }
   ],
   "source": [
    "clf.fit(x_train, y_train)"
   ]
  },
  {
   "cell_type": "code",
   "execution_count": 17,
   "id": "57c2650f",
   "metadata": {
    "scrolled": false
   },
   "outputs": [
    {
     "data": {
      "text/plain": [
       "array([1, 1, 1, 0, 1, 1, 1, 1, 1, 1, 1, 1, 1, 1, 1, 1, 1, 1, 1, 1, 1, 1,\n",
       "       1, 1, 1, 1, 1, 1, 1, 1, 1, 1, 1, 1, 1, 1, 1, 1, 1, 0, 1, 1, 1, 1,\n",
       "       1, 1, 1, 0, 1, 0, 1, 1, 1, 1, 1, 0, 1, 1, 1, 1, 1, 1, 1, 1, 0, 1,\n",
       "       1, 1, 1, 1, 1, 1, 1, 1, 1, 1, 1, 1, 1, 1, 1, 1, 1, 1, 1, 1, 0, 1,\n",
       "       1, 1, 1, 1, 1, 1, 1, 1, 1, 1, 0, 0, 1, 1, 1, 1, 1, 1, 1, 1, 1, 1,\n",
       "       1, 1, 1, 1, 1, 1, 1, 1, 1, 1, 1, 1, 1, 1, 1, 1, 1, 1, 1, 1, 1, 1,\n",
       "       1, 1, 1, 1, 1, 1, 1, 1, 1, 1, 1, 0, 1, 1, 1, 1, 1, 1, 1, 1, 1, 0,\n",
       "       1, 1, 1, 1, 0, 1, 0, 1, 1, 1, 1, 1, 1, 1, 1, 1, 1, 1, 1, 1, 1, 1,\n",
       "       1, 1, 1, 1, 1, 1, 1, 1, 1, 1, 1, 1, 1, 1, 1, 1, 1, 1, 1, 1, 1, 1,\n",
       "       1, 1, 1, 1, 1, 1, 1, 1, 1, 1, 1, 1, 1, 1, 1, 1, 1, 1, 0, 1, 1, 1,\n",
       "       1, 1, 1, 1, 1, 1, 1, 1, 1, 1, 1, 1, 1, 1, 0, 1, 1, 1, 0, 1, 1, 1,\n",
       "       1, 1, 1, 1, 1, 1, 1, 1, 1, 0, 0, 1, 0, 0, 0, 0, 0, 0, 0, 0, 0, 0,\n",
       "       0, 0, 0, 0, 0, 0, 0, 0, 0, 0, 0, 0, 0, 0, 0, 0, 0, 0, 0, 0, 0, 0,\n",
       "       0, 0, 0, 0, 0, 0, 0, 0, 0, 0, 0, 0, 0, 0, 0, 1, 0, 0, 0, 0, 0, 0,\n",
       "       0, 0, 0, 0, 0, 0, 0, 0, 0, 0, 0, 0, 0, 0, 0, 0, 0, 0, 0, 0, 0, 0,\n",
       "       0, 0, 0, 0, 0, 1, 0, 0, 0, 0, 0, 0, 0, 0, 0, 0, 0, 0, 0, 0, 1, 0,\n",
       "       0, 0, 0, 0, 0, 0, 0, 0, 0, 0, 0, 0, 0, 0, 0, 0, 0, 0, 0, 0, 0, 0,\n",
       "       0, 0, 0, 0, 0, 1, 0, 1, 0, 0, 0, 0, 0, 0, 0, 0, 0, 0, 0, 0, 0, 0,\n",
       "       0, 0, 1, 0, 0, 0, 0, 0, 0, 0, 0, 0, 0, 0, 0, 0, 0, 0, 0, 0, 0, 0,\n",
       "       0, 0, 0, 0, 0, 0, 0, 1, 0, 0, 0, 0, 0, 0, 0, 0, 0, 0, 0, 0, 0, 0,\n",
       "       0, 0, 0, 0, 0, 1, 0, 0, 0, 0, 0, 0, 0, 0, 0, 0, 0, 0, 0, 0, 0, 0,\n",
       "       0, 0, 0, 0, 0, 0, 0, 0, 0, 0, 0, 0, 0, 0, 0, 0, 0, 0, 0, 0, 0, 0,\n",
       "       0, 0, 0, 0, 0, 0, 0, 0, 0, 0, 0, 0, 0, 0, 0, 0, 0, 0])"
      ]
     },
     "execution_count": 17,
     "metadata": {},
     "output_type": "execute_result"
    }
   ],
   "source": [
    "clf.predict(np.array([img.flatten() for img in df_train['image']]))"
   ]
  },
  {
   "cell_type": "code",
   "execution_count": 18,
   "id": "21303c4f",
   "metadata": {},
   "outputs": [
    {
     "data": {
      "text/plain": [
       "array([0, 1, 1, 1, 0, 1, 1, 0, 1, 0, 1, 0, 0, 1, 1, 0, 1, 0, 0, 1, 0, 1,\n",
       "       0, 0, 1, 0, 0, 1, 1, 1, 0, 1, 1, 0, 0, 1, 0, 0, 1, 0, 0, 1, 1, 0,\n",
       "       0, 1, 0, 0, 0, 0, 1, 1, 0, 0, 1, 0, 0, 0, 1, 0, 1, 1, 0, 1, 0, 0,\n",
       "       0, 0, 1, 1, 1, 0, 0, 1, 1, 1, 1, 0, 1, 1, 0, 1, 0, 1, 0, 0, 0, 0,\n",
       "       0, 0, 0, 0, 1, 1, 0, 1, 1, 1, 0, 1])"
      ]
     },
     "execution_count": 18,
     "metadata": {},
     "output_type": "execute_result"
    }
   ],
   "source": [
    "clf.predict(np.array([img.flatten() for img in test_df['image']]))"
   ]
  }
 ],
 "metadata": {
  "kernelspec": {
   "display_name": "Python 3 (ipykernel)",
   "language": "python",
   "name": "python3"
  },
  "language_info": {
   "codemirror_mode": {
    "name": "ipython",
    "version": 3
   },
   "file_extension": ".py",
   "mimetype": "text/x-python",
   "name": "python",
   "nbconvert_exporter": "python",
   "pygments_lexer": "ipython3",
   "version": "3.11.5"
  }
 },
 "nbformat": 4,
 "nbformat_minor": 5
}
